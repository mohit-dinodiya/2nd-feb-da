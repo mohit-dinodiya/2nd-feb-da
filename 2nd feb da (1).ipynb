{
 "cells": [
  {
   "cell_type": "markdown",
   "id": "19ac56ab-4a5c-4147-91a7-cc1927c9139f",
   "metadata": {},
   "source": [
    "# What are the characteristics of the tuples? Is tuple immutable?\n",
    "\n",
    "A tuple is an ordered collection of values, separated by commas and enclosed in parentheses. Tuples are similar to lists, but they have a few key differences:\n",
    "\n",
    "Tuples are immutable, meaning their contents cannot be changed once they are created. This is in contrast to lists, which are mutable and can be modified after creation.\n",
    "\n",
    "Tuples can contain elements of different types, including other tuples, lists, and even other data structures.\n",
    "\n",
    "Tuples are often used to represent a collection of related values that should not be changed, such as the coordinates of a point or the RGB values of a color.\n",
    "\n",
    "In summary, tuples are immutable and ordered collections of values that can contain elements of different types."
   ]
  },
  {
   "cell_type": "markdown",
   "id": "65c6c6d3-ea48-47a1-8935-bfb76354e65d",
   "metadata": {},
   "source": [
    "# Q2. What are the two tuple methods in python? Give an example of each method. Give a reason why tuples have only two in-built methods as compared to Lists.\n",
    "\n",
    "The two built-in tuple methods in Python are count() and index().\n",
    "\n",
    "count() method: This method returns the number of times a specified value appears in the tuple."
   ]
  },
  {
   "cell_type": "code",
   "execution_count": 2,
   "id": "d548b0bc-7c65-489a-ba08-4ebd3c628352",
   "metadata": {},
   "outputs": [
    {
     "name": "stdout",
     "output_type": "stream",
     "text": [
      "3\n"
     ]
    }
   ],
   "source": [
    "t=(1,2,3,2,2,4,55)\n",
    "count = t.count(2)\n",
    "print (count)"
   ]
  },
  {
   "cell_type": "markdown",
   "id": "c913c480-222d-490c-9512-3f6f87bc8859",
   "metadata": {},
   "source": [
    "index() method: This method returns the index of the first occurrence of a specified value in the tuple."
   ]
  },
  {
   "cell_type": "code",
   "execution_count": 3,
   "id": "d5ba05d2-a55a-4875-b5fe-3915e5e37d95",
   "metadata": {},
   "outputs": [
    {
     "name": "stdout",
     "output_type": "stream",
     "text": [
      "6\n"
     ]
    }
   ],
   "source": [
    "t=(1,2,3,2,2,4,55)\n",
    "index = t.index(55)\n",
    "print (index)"
   ]
  },
  {
   "cell_type": "markdown",
   "id": "b214f68c-cb0d-45f1-b82d-f63070b0bbf2",
   "metadata": {},
   "source": [
    "# Q3. Which collection datatypes in python do not allow duplicate items? Write a code using a set to remove duplicates from the given list.\n",
    "\n",
    "List = [1, 1, 1, 2, 1, 3, 1, 4, 2, 1, 2, 2, 2, 3, 2, 4, 3, 1, 3, 2, 3, 3, 3, 4, 4, 1, 4, 2, 4, 3, 4, 4]\n",
    "\n",
    "\n",
    "The collection datatype in Python that does not allow duplicate items is the \"set\". We can create a set using curly braces or the set() function. When we pass a list with duplicates to a set, it automatically removes the duplicates.\n",
    "\n",
    "Here's the code to remove duplicates from the given list using a set:"
   ]
  },
  {
   "cell_type": "code",
   "execution_count": 1,
   "id": "750831b0-f333-44f3-b890-212a62a82817",
   "metadata": {},
   "outputs": [
    {
     "name": "stdout",
     "output_type": "stream",
     "text": [
      "[1, 2, 3, 4]\n"
     ]
    }
   ],
   "source": [
    "Lst = [1, 1, 1, 2, 1, 3, 1, 4, 2, 1, 2, 2, 2, 3, 2, 4, 3, 1, 3, 2, 3, 3, 3, 4, 4, 1, 4, 2, 4, 3, 4, 4]\n",
    "Lst = list(set(Lst))\n",
    "print (Lst)"
   ]
  },
  {
   "cell_type": "markdown",
   "id": "647aa007-7e86-4360-b521-7c669ac49b83",
   "metadata": {},
   "source": [
    "In the code above, we first create a list with duplicate elements. Then we pass the list to the set() function, which automatically removes the duplicates. We convert the resulting set back to a list using the list() function and assign it to the same variable \"lst\". Finally, we print the updated list without duplicates."
   ]
  },
  {
   "cell_type": "markdown",
   "id": "b246e693-c562-43b3-b3c3-d25dbe83aa5f",
   "metadata": {},
   "source": [
    "# Q4. Explain the difference between the union() and update() methods for a set. Give an example of each method.\n",
    "\n",
    "Both union() and update() methods are used to combine two or more sets in Python. However, they have different ways of combining the sets and modifying the original set.\n",
    "\n",
    "union() method returns a new set that contains all the unique elements present in both sets. It takes one or more iterable as input and creates a new set by combining all the unique elements from those iterables.\n",
    "\n",
    "Example of union() method:"
   ]
  },
  {
   "cell_type": "code",
   "execution_count": 2,
   "id": "474dace8-1b4b-4ee9-937d-bae3b4cd4486",
   "metadata": {},
   "outputs": [
    {
     "name": "stdout",
     "output_type": "stream",
     "text": [
      "{1, 2, 3, 4, 5, 6, 7}\n"
     ]
    }
   ],
   "source": [
    "set1 = {1, 2, 3}\n",
    "set2 = {3, 4, 5}\n",
    "set3 = {5, 6, 7}\n",
    "\n",
    "new_set = set1.union(set2, set3)\n",
    "\n",
    "print(new_set)\n"
   ]
  },
  {
   "cell_type": "markdown",
   "id": "7ed21c9d-1f77-460b-aff8-7aaf39662b04",
   "metadata": {},
   "source": [
    "In the example above, we have three sets set1, set2, and set3. We use the union() method to combine all three sets and assign the resulting set to new_set. The output is a new set that contains all the unique elements from all three sets.\n",
    "\n",
    "update() method, on the other hand, modifies the original set by adding all the unique elements from the input iterable. It takes one or more iterable as input and adds all the unique elements from those iterables to the original set.\n",
    "\n",
    "Example of update() method:"
   ]
  },
  {
   "cell_type": "code",
   "execution_count": 3,
   "id": "896b7798-55cc-43ab-a035-a8baa95dff33",
   "metadata": {},
   "outputs": [
    {
     "name": "stdout",
     "output_type": "stream",
     "text": [
      "{1, 2, 3, 4, 5, 6, 7}\n"
     ]
    }
   ],
   "source": [
    "set1 = {1, 2, 3}\n",
    "set2 = {3, 4, 5}\n",
    "set3 = {5, 6, 7}\n",
    "\n",
    "set1.update(set2, set3)\n",
    "\n",
    "print(set1)\n"
   ]
  },
  {
   "cell_type": "markdown",
   "id": "fa8b8405-4eb6-4c69-a99b-0f2e06c2e1e5",
   "metadata": {},
   "source": [
    "In the example above, we have three sets set1, set2, and set3. We use the update() method to add all the unique elements from set2 and set3 to set1. The output is the updated set1 that contains all the unique elements from all three sets.\n",
    "\n",
    "In summary, union() method creates a new set by combining all unique elements from the input iterables, whereas update() method modifies the original set by adding all the unique elements from the input iterables."
   ]
  },
  {
   "cell_type": "markdown",
   "id": "f6acf4d0-f548-4238-a379-5331e0600171",
   "metadata": {},
   "source": [
    "Q5. What is a dictionary? Give an example. Also, state whether a dictionary is ordered or unordered.\n",
    "\n",
    "In Python, a dictionary is a collection datatype that is used to store data in key-value pairs. Each key is associated with a value, and we can use the key to access its corresponding value. Dictionaries are enclosed in curly braces {}, and each key-value pair is separated by a colon :.\n",
    "\n",
    "Example of a dictionary:"
   ]
  },
  {
   "cell_type": "code",
   "execution_count": 4,
   "id": "bd46cf23-78c4-4645-ac75-bec303ee93db",
   "metadata": {},
   "outputs": [
    {
     "name": "stdout",
     "output_type": "stream",
     "text": [
      "{'name': 'John', 'age': 20, 'major': 'Computer Science'}\n"
     ]
    }
   ],
   "source": [
    "student = {\"name\": \"John\", \"age\": 20, \"major\": \"Computer Science\"}\n",
    "\n",
    "print(student)\n"
   ]
  },
  {
   "cell_type": "markdown",
   "id": "185c6769-d2a0-4fb2-86cf-a7771a4bb351",
   "metadata": {},
   "source": [
    "One important thing to note about dictionaries is that they are unordered. This means that the elements in the dictionary are not stored in any particular order. When we print a dictionary, the order of the key-value pairs may not be the same as the order in which we added them to the dictionary. However, starting from Python 3.7, dictionaries are guaranteed to maintain the insertion order of their items. So, in recent versions of Python, we can expect dictionaries to be ordered."
   ]
  },
  {
   "cell_type": "markdown",
   "id": "a0d8c7c0-50ba-4e26-b199-61be12428605",
   "metadata": {},
   "source": [
    "# Q6. Can we create a nested dictionary? If so, please give an example by creating a simple one-level nested dictionary.\n",
    "\n",
    "Yes, we can create a nested dictionary in Python. A nested dictionary is a dictionary that contains one or more dictionaries as values for its keys. We can access the values of a nested dictionary by using the square bracket notation [] and passing the keys of the outer and inner dictionaries inside it.\n",
    "\n",
    "Here's an example of a one-level nested dictionary:"
   ]
  },
  {
   "cell_type": "code",
   "execution_count": 5,
   "id": "3e318503-4f1f-4337-ae9a-626771f5bf27",
   "metadata": {},
   "outputs": [
    {
     "name": "stdout",
     "output_type": "stream",
     "text": [
      "85\n"
     ]
    }
   ],
   "source": [
    "student = {\n",
    "  \"name\": \"John\",\n",
    "  \"age\": 20,\n",
    "  \"major\": \"Computer Science\",\n",
    "  \"grades\": {\n",
    "    \"math\": 85,\n",
    "    \"english\": 90,\n",
    "    \"history\": 80\n",
    "  }\n",
    "}\n",
    "\n",
    "print(student[\"grades\"][\"math\"]) \n"
   ]
  },
  {
   "cell_type": "markdown",
   "id": "b7900eb7-206a-4f77-b471-c7334d540034",
   "metadata": {},
   "source": [
    "In the example above, we have a dictionary named student that contains four key-value pairs. The keys \"name\", \"age\", and \"major\" have string values, while the key \"grades\" has a nested dictionary as its value. The nested dictionary contains three key-value pairs, where each key represents a subject and its corresponding value represents the student's grade in that subject.\n",
    "\n",
    "We can access the value of a nested dictionary by using the square bracket notation [] and passing the keys of the outer and inner dictionaries inside it. For example, to access the value of the key \"math\" in the nested dictionary, we write student[\"grades\"][\"math\"]. This will return the value 85."
   ]
  },
  {
   "cell_type": "markdown",
   "id": "ccd1af4f-3b10-4d89-821b-0b1e0ec5b428",
   "metadata": {},
   "source": [
    "# Q7. Using setdefault() method, create key named topics in the given dictionary and also add the value of the key as this list ['Python', 'Machine Learning’, 'Deep Learning']\n",
    "\n",
    "We can use the setdefault() method to add a new key-value pair to a dictionary only if the key does not already exist in the dictionary. If the key already exists, the setdefault() method returns the value of the key without modifying the dictionary. The syntax for the setdefault() method is as follows:"
   ]
  },
  {
   "cell_type": "markdown",
   "id": "3b3eb934-09c5-45a2-9e08-85e55f2f92dc",
   "metadata": {},
   "source": [
    "# Q8. What are the three view objects in dictionaries? Use the three in-built methods in python to display these three view objects for the given dictionary.dict1 = {'Sport': 'Cricket' , 'Teams': ['India', 'Australia', 'England', 'South Africa', 'Sri Lanka', 'New Zealand']}\n",
    "\n",
    "\n",
    "The three view objects in Python dictionaries are:\n",
    "\n",
    "dict_keys: This view object contains the keys of the dictionary.\n",
    "dict_values: This view object contains the values of the dictionary.\n",
    "dict_items: This view object contains the key-value pairs of the dictionary as tuples.\n"
   ]
  },
  {
   "cell_type": "code",
   "execution_count": 10,
   "id": "da808300-0fc1-4fa2-9e1a-01af6535c3db",
   "metadata": {},
   "outputs": [
    {
     "name": "stdout",
     "output_type": "stream",
     "text": [
      "Keys: dict_keys(['Sport', 'Teams'])\n",
      "Values: dict_values(['Cricket', ['India', 'Australia', 'England', 'South Africa', 'Sri Lanka', 'New Zealand']])\n",
      "Items: dict_items([('Sport', 'Cricket'), ('Teams', ['India', 'Australia', 'England', 'South Africa', 'Sri Lanka', 'New Zealand'])])\n"
     ]
    }
   ],
   "source": [
    "# Given dictionary\n",
    "dict1 = {'Sport': 'Cricket', 'Teams': ['India', 'Australia', 'England', 'South Africa', 'Sri Lanka', 'New Zealand']}\n",
    "\n",
    "# Displaying the view objects\n",
    "keys = dict1.keys()\n",
    "values = dict1.values()\n",
    "items = dict1.items()\n",
    "\n",
    "# Printing the view objects\n",
    "print(\"Keys:\", keys)\n",
    "print(\"Values:\", values)\n",
    "print(\"Items:\", items)\n"
   ]
  },
  {
   "cell_type": "code",
   "execution_count": null,
   "id": "4a6ee8d5-24bf-4e0f-b6f6-47f8a8fbcb6e",
   "metadata": {},
   "outputs": [],
   "source": []
  }
 ],
 "metadata": {
  "kernelspec": {
   "display_name": "Python 3 (ipykernel)",
   "language": "python",
   "name": "python3"
  },
  "language_info": {
   "codemirror_mode": {
    "name": "ipython",
    "version": 3
   },
   "file_extension": ".py",
   "mimetype": "text/x-python",
   "name": "python",
   "nbconvert_exporter": "python",
   "pygments_lexer": "ipython3",
   "version": "3.10.8"
  }
 },
 "nbformat": 4,
 "nbformat_minor": 5
}
